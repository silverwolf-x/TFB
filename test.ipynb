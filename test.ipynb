{
 "cells": [
  {
   "cell_type": "code",
   "execution_count": 4,
   "metadata": {},
   "outputs": [
    {
     "name": "stdout",
     "output_type": "stream",
     "text": [
      "            date  log_trend\n",
      "0     2010-01-01   9.367662\n",
      "1     2010-01-02   9.367862\n",
      "2     2010-01-03   9.368077\n",
      "3     2010-01-04   9.368303\n",
      "4     2010-01-05   9.368597\n",
      "...          ...        ...\n",
      "5108  2023-12-27  11.449902\n",
      "5109  2023-12-28  11.423130\n",
      "5110  2023-12-29  11.403799\n",
      "5111  2023-12-30  11.393024\n",
      "5112  2023-12-31  11.385598\n",
      "\n",
      "[5113 rows x 2 columns]\n"
     ]
    }
   ],
   "source": [
    "import pandas as pd\n",
    "\n",
    "\n",
    "def convert_to_tfb_series(data):\n",
    "    data = data.set_index(\"date\")\n",
    "    melted_df = data.melt(value_name=\"data\", var_name=\"cols\", ignore_index=False)\n",
    "    return melted_df.reset_index()[['date', 'data', 'cols']]\n",
    "\n",
    "data = pd.read_csv(r\"./log_trend.csv\")\n",
    "data.rename(columns={data .columns[0]: 'date'},inplace=True)\n",
    "\n",
    "print(data)\n",
    "melted_df = convert_to_tfb_series(data)\n",
    "melted_df.to_csv(r\"./log_trend2.csv\", index=False)\n",
    "\n",
    "# python scripts/run_benchmark.py --model-config '{\"l\": 256, \"lr\": 0.01, \"horizon\": 24, \"seq_len\": 104}' --adapter \"transformer_adapter\" --gpus 0 --num-workers 1 --timeout 60000 --save-path \"ILI/DLinear\""
   ]
  },
  {
   "cell_type": "code",
   "execution_count": null,
   "metadata": {
    "vscode": {
     "languageId": "shellscript"
    }
   },
   "outputs": [
    {
     "ename": "SyntaxError",
     "evalue": "invalid syntax (2827796090.py, line 1)",
     "output_type": "error",
     "traceback": [
      "\u001b[1;36m  Cell \u001b[1;32mIn[2], line 1\u001b[1;36m\u001b[0m\n\u001b[1;33m    python ./scripts/run_benchmark.py \\\u001b[0m\n\u001b[1;37m            ^\u001b[0m\n\u001b[1;31mSyntaxError\u001b[0m\u001b[1;31m:\u001b[0m invalid syntax\n"
     ]
    }
   ],
   "source": [
    "python ./scripts/run_benchmark.py \\\n",
    "    --config-path \"fixed_forecast_config_daily.json\" \\\n",
    "    --model-name \\\n",
    "        \"time_series_library.Triformer\" \\\n",
    "        \"time_series_library.PatchTST\" \\\n",
    "    --model-hyper-params \\\n",
    "        '{\"d_model\":16,\"d_ff\":16,\"factor\":3}' \\\n",
    "        '{\"d_model\":16,\"d_ff\":16,\"patch_len\":8,\"stride\":4}' \\\n",
    "    --adapter \\\n",
    "        \"transformer_adapter\" \\\n",
    "        \"transformer_adapter\" \\\n",
    "    --save-path \"$(python -c 'import datetime; print(\"daily_\" + datetime.datetime.now().strftime(\"%Y%m%d_%H%M%S\"))')\"  \\\n",
    "    --gpus 0 \\\n",
    "    --timeout 60000 \\\n",
    "    --data-name-list \"c_log_trend.csv\" \\\n",
    "    --save-true-pred True"
   ]
  },
  {
   "cell_type": "code",
   "execution_count": null,
   "metadata": {
    "vscode": {
     "languageId": "shellscript"
    }
   },
   "outputs": [],
   "source": [
    "python ./scripts/run_benchmark.py --config-path \"rolling_forecast_config.json\" --strategy-args '{\"horizon\": 192}' --model-name \"time_series_library.Crossformer\" --model-hyper-params '{\"d_ff\": 256, \"d_model\": 128, \"dropout\": 0.1, \"e_layers\": 3, \"factor\": 10, \"horizon\": 192, \"lr\": 0.0005, \"n_headers\": 2, \"norm\": true, \"num_epochs\": 20, \"seg_len\": 12, \"seq_len\": 512}' --adapter \"transformer_adapter\" --gpus 0 --num-workers 1 --timeout 60000 --save-path \"PEMS08/Crossformer\" --data-name-list \"c_log_trend.csv\""
   ]
  },
  {
   "cell_type": "code",
   "execution_count": null,
   "metadata": {
    "vscode": {
     "languageId": "shellscript"
    }
   },
   "outputs": [],
   "source": [
    "python ./scripts/run_benchmark.py --config-path \"fixed_forecast_config_daily.json\"   --model-name  \"time_series_library.Triformer\"  \"time_series_library.PatchTST\"  \"time_series_library.Nonstationary_Transformer\" \"time_series_library.Informer\" \"time_series_library.TimesNet\" \"time_series_library.FEDformer\" \"time_series_library.NLinear\"  \"time_series_library.Linear\"  \"time_series_library.DLinear\"  \"time_series_library.FiLM\" \"time_series_library.MICN\" \"time_series_library.Crossformer\" \"darts.TCNModel\" \"darts.NBEATSModel\" \"darts.NHiTSModel\" \"darts.BlockRNNModel\" \"darts.StatsForecastAutoETS\" \"darts.StatsForecastAutoCES\" \"darts.StatsForecastAutoTheta\" \"darts.AutoARIMA\" --model-hyper-params \"{\\\"d_model\\\":16,\\\"d_ff\\\":16,\\\"factor\\\":3}\" \"{\\\"d_model\\\":16,\\\"d_ff\\\":16,\\\"patch_len\\\":8,\\\"stride\\\":4}\"  \"{\\\"p_hidden_layers\\\":2,\\\"p_hidden_dims\\\":[256,256],\\\"d_model\\\":16,\\\"d_ff\\\":16,\\\"factor\\\":3}\" \"{\\\"d_model\\\":16,\\\"d_ff\\\":16,\\\"factor\\\":3}\"  \"{\\\"d_model\\\":16,\\\"d_ff\\\":16,\\\"factor\\\":3}\" \"{\\\"d_model\\\":16,\\\"d_ff\\\":16,\\\"factor\\\":3}\" \"{\\\"d_model\\\":16,\\\"d_ff\\\":16,\\\"factor\\\":3}\" \"{\\\"d_model\\\":16,\\\"d_ff\\\":16,\\\"factor\\\":3}\" \"{\\\"d_model\\\":16,\\\"d_ff\\\":16,\\\"factor\\\":3}\" \"{\\\"d_model\\\":16,\\\"d_ff\\\":16,\\\"factor\\\":3}\"  \"{\\\"d_model\\\":16,\\\"d_ff\\\":16,\\\"factor\\\":3}\" \"{\\\"d_model\\\":16,\\\"d_ff\\\":16,\\\"factor\\\":3}\"  \"{\\\"n_epochs\\\":5,\\\"batch_size\\\":16,\\\"optimizer_kwargs\\\":{\\\"lr\\\":1e-3}}\" \"{\\\"n_epochs\\\":5,\\\"batch_size\\\":16,\\\"optimizer_kwargs\\\":{\\\"lr\\\":1e-3}}\" \"{\\\"n_epochs\\\":5,\\\"batch_size\\\":16,\\\"optimizer_kwargs\\\":{\\\"lr\\\":1e-3}}\" \"{\\\"n_epochs\\\":5,\\\"batch_size\\\":16,\\\"optimizer_kwargs\\\":{\\\"lr\\\":1e-3}}\"  --adapter \"transformer_adapter\" \"transformer_adapter\" \"transformer_adapter\" \"transformer_adapter\" \"transformer_adapter\" \"transformer_adapter\" \"transformer_adapter\" \"transformer_adapter\" \"transformer_adapter\" \"transformer_adapter\" \"transformer_adapter\" \"transformer_adapter\" --save-path \"$(python -c 'import datetime; print(\"daily_\" + datetime.datetime.now().strftime(\"%Y%m%d_%H%M%S\"))')\"   --gpus 0  --timeout 60000 --data-name-list \"c_log_trend.csv\" --save-true-pred True "
   ]
  }
 ],
 "metadata": {
  "kernelspec": {
   "display_name": "tfb",
   "language": "python",
   "name": "python3"
  },
  "language_info": {
   "codemirror_mode": {
    "name": "ipython",
    "version": 3
   },
   "file_extension": ".py",
   "mimetype": "text/x-python",
   "name": "python",
   "nbconvert_exporter": "python",
   "pygments_lexer": "ipython3",
   "version": "3.10.16"
  }
 },
 "nbformat": 4,
 "nbformat_minor": 2
}
